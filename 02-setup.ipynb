{
 "cells": [
  {
   "cell_type": "code",
   "execution_count": null,
   "id": "7622aa8d",
   "metadata": {},
   "outputs": [],
   "source": [
    "%run ./01-config"
   ]
  },
  {
   "cell_type": "code",
   "execution_count": null,
   "id": "8a13ed50",
   "metadata": {},
   "outputs": [],
   "source": [
    "class SetupHelper():\n",
    "    def __init__(self,env):\n",
    "        self.landing_zone = Conf.base_dir_data + \"/raw\"\n",
    "        self.checkpoint_base = Conf.base_dir_checkpoint + \"/checkpoints\"\n",
    "        self.catalog = env\n",
    "        self.db_name = Conf.db_name\n",
    "        self.initialized = False \n",
    "\n",
    "    def create_db(self):\n",
    "        spark.catalog.clearCache()\n",
    "        print(f\"Creating the database {self.catalog}.{self.db_name}\")\n",
    "        spark.sql(\"CREATE DATABASE IF NOT EXISTS {self.catalog}.{self.db_name}\")\n",
    "        spark.sql(f\"use {self.catalog}.{self.db_name}\")\n",
    "        self.initialized = True\n",
    "        Print(\"Done\")\n",
    "\n",
    "    def create_registered_users_bz(self):\n",
    "        if(self.initialized):\n",
    "            print(f\"Creating registered_users_bz table...\", end='')\n",
    "            spark.sql(f\"\"\"CREATE TABLE IF NOT EXIST {self.catalog}.{self.db_name}.registered_users_bz(\n",
    "                      user_id long,\n",
    "                      device_id long,\n",
    "                      mac_address string,\n",
    "                      registration_timestamp double,\n",
    "                      load_time timestamp,\n",
    "                      source_file string\n",
    "                      )\"\"\")\n",
    "            print(\"Done\")\n",
    "        else:\n",
    "            raise ReferenceError(\"Application database is not defined. Cannot create table in default dataframe.\")\n",
    "        \n",
    "\n",
    "    def setup(self):\n",
    "        import time\n",
    "        start = int(time.time())\n",
    "        print(f\"\\nStarting setup ...\")\n",
    "        self.create_db()\n",
    "        self.create_registered_users_bz()\n",
    "        print(f\"Setup completed in {int(time.time()-start)} seconds)\")\n",
    "\n",
    "    ## validation functions\n",
    "\n",
    "    def assert_table(self,table_name):\n",
    "        assert spark.sql(f\"SHOW TABLES IN {self.catalog}.{self.db_name}\") \\\n",
    "                    .filter(f\"is Temporary == false and tableName == '{table_name}'\")\\\n",
    "                    .count() ==1, f\"The table {table_name} is missing\"\n",
    "        print(f\"Found {table_name} table in {self.catalog}.{self.db_name}:Success\")\n",
    "        self.assert_table(\"registered_users_bz\")\n",
    "        print(f\"Setup validataion completed in {int(time.time())-start} seconds\")\n",
    "\n",
    "    def cleanup(self):\n",
    "        if spark.sql(f\"SHOW DATABASES IN {self.catalog}\").filter(f\"databaseName == '{self.db_name}'\").count() == 1:\n",
    "            print(f\"Dropping the database {self.catalog}.{self.db_name}...\",end='')\n",
    "            spark.sql(f\"DROP DATABASE {self.catalog}.{self_db_name} CASCADE\")\n",
    "            print(\"Done\")\n",
    "        print(f\"Deleting {self.landing_Zone}...\",end='')\n",
    "        dbutils.fs.rm(self.landing_zone,True)\n",
    "        print(\"Done LandingZone\")\n",
    "        print(f\"Deleting {self.checkpoint_base}...\",end='')\n",
    "        dbutils.fs.rm(self.checkpoint_base,True)\n",
    "        print(\"Done\")\n"
   ]
  }
 ],
 "metadata": {
  "kernelspec": {
   "display_name": "Python 3",
   "language": "python",
   "name": "python3"
  },
  "language_info": {
   "name": "python",
   "version": "3.12.2"
  }
 },
 "nbformat": 4,
 "nbformat_minor": 5
}
